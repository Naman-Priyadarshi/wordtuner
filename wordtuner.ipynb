{
  "nbformat": 4,
  "nbformat_minor": 0,
  "metadata": {
    "colab": {
      "name": "wordtuner.ipynb",
      "provenance": [],
      "authorship_tag": "ABX9TyOFbRPSsoDuSauklFIlF8Fj",
      "include_colab_link": true
    },
    "kernelspec": {
      "name": "python3",
      "display_name": "Python 3"
    },
    "language_info": {
      "name": "python"
    }
  },
  "cells": [
    {
      "cell_type": "markdown",
      "metadata": {
        "id": "view-in-github",
        "colab_type": "text"
      },
      "source": [
        "<a href=\"https://colab.research.google.com/github/Naman-Priyadarshi/wordtuner/blob/main/wordtuner.ipynb\" target=\"_parent\"><img src=\"https://colab.research.google.com/assets/colab-badge.svg\" alt=\"Open In Colab\"/></a>"
      ]
    },
    {
      "cell_type": "code",
      "execution_count": null,
      "metadata": {
        "id": "jqNsl8hJQqqT"
      },
      "outputs": [],
      "source": [
        "!pip install git+https://github.com/PrithivirajDamodaran/Styleformer.git"
      ]
    },
    {
      "cell_type": "code",
      "source": [
        "from styleformer import Styleformer\n",
        "import torch\n",
        "import warnings\n",
        "warnings.filterwarnings(\"ignore\")\n",
        "\n",
        "def set_seed(seed):\n",
        "  torch.manual_seed(seed)\n",
        "  if torch.cuda.is_available():\n",
        "    torch.cuda.manual_seed_all(seed)\n",
        "\n",
        "set_seed(1234)\n",
        "\n",
        "# style = [0=Casual to Formal, 1=Formal to Casual, 2=Active to Passive, 3=Passive to Active etc..]\n",
        "sf = Styleformer(style = 0) \n",
        "\n",
        "source_sentences = [\n",
        "\"I am quitting my job\",\n",
        "\"Jimmy is on crack and can't trust him\",\n",
        "\"What do guys do to show that they like a gal?\",\n",
        "\"i loooooooooooooooooooooooove going to the movies.\",\n",
        "\"That movie was fucking awesome\",\n",
        "\"My mom is doing fine\",\n",
        "\"That was funny LOL\" , \n",
        "\"btw - ur avatar looks familiar\",\n",
        "\"who gives a crap?\",\n",
        "\"Dude, this car's dope!\",\n",
        "\"I kinda have a feeling that he has a crush on you.\",\n",
        "\"OMG! It's finger-lickin' good.\"\n",
        "]   \n",
        "\n",
        "for source_sentence in source_sentences:\n",
        "    target_sentence = sf.transfer(source_sentence)\n",
        "    print(\"-\" *100)\n",
        "    print(\"[Casual] \", source_sentence)\n",
        "    print(\"-\" *100)\n",
        "    if target_sentence is not None:\n",
        "        print(\"[Formal] \",target_sentence)\n",
        "        print()\n",
        "    else:\n",
        "        print(\"No good quality transfers available !\")"
      ],
      "metadata": {
        "id": "N0Im9kU-Q7z1"
      },
      "execution_count": null,
      "outputs": []
    },
    {
      "cell_type": "code",
      "source": [
        "from styleformer import Styleformer\n",
        "import warnings\n",
        "warnings.filterwarnings(\"ignore\")\n",
        "\n",
        "sf = Styleformer(style = 1) \n",
        "import torch\n",
        "def set_seed(seed):\n",
        "  torch.manual_seed(seed)\n",
        "  if torch.cuda.is_available():\n",
        "    torch.cuda.manual_seed_all(seed)\n",
        "\n",
        "set_seed(1212)\n",
        "\n",
        "source_sentences = [\n",
        "\"I would love to meet attractive men in town\",\n",
        "\"I am not paying this kind of money for that nonsense\",\n",
        "\"He is on cocaine and he cannot be trusted with this\",\n",
        "\"He is a very nice man and has a charming personality\",\n",
        "\"How are you?\",\n",
        "\"They will be attending the meeting tomorrow.\"\n",
        "]   \n",
        "\n",
        "for source_sentence in source_sentences:\n",
        "    target_sentence = sf.transfer(source_sentence, inference_on=-1, quality_filter=0.95, max_candidates=5)\n",
        "    print(\"[Formal] \", source_sentence)\n",
        "    if target_sentence is not None:\n",
        "        print(\"[Casual] \",target_sentence)\n",
        "    else:\n",
        "        print(\"No good quality transfers available !\")\n",
        "    print(\"-\" *100)        "
      ],
      "metadata": {
        "id": "d4TYpoNpShqQ"
      },
      "execution_count": null,
      "outputs": []
    }
  ]
}