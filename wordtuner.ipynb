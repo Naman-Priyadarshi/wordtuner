{
  "nbformat": 4,
  "nbformat_minor": 0,
  "metadata": {
    "colab": {
      "name": "wordtuner.ipynb",
      "provenance": [],
      "authorship_tag": "ABX9TyOFbRPSsoDuSauklFIlF8Fj",
      "include_colab_link": true
    },
    "kernelspec": {
      "name": "python3",
      "display_name": "Python 3"
    },
    "language_info": {
      "name": "python"
    }
  },
  "cells": [
    {
      "cell_type": "markdown",
      "metadata": {
        "id": "view-in-github",
        "colab_type": "text"
      },
      "source": [
        "<a href=\"https://colab.research.google.com/github/Naman-Priyadarshi/wordtuner/blob/main/wordtuner.ipynb\" target=\"_parent\"><img src=\"https://colab.research.google.com/assets/colab-badge.svg\" alt=\"Open In Colab\"/></a>"
      ]
    },
    {
      "cell_type": "code",
      "execution_count": null,
      "metadata": {
        "id": "jqNsl8hJQqqT"
      },
      "outputs": [],
      "source": [
        "!pip install git+https://github.com/PrithivirajDamodaran/Styleformer.git"
      ]
    },
    {
      "cell_type": "code",
      "source": [
        "from styleformer import Styleformer\n",
        "import torch\n",
        "import warnings\n",
        "warnings.filterwarnings(\"ignore\")\n",
        "\n",
        "def set_seed(seed):\n",
        "  torch.manual_seed(seed)\n",
        "  if torch.cuda.is_available():\n",
        "    torch.cuda.manual_seed_all(seed)\n",
        "\n",
        "set_seed(1234)\n",
        "\n",
        "# style = [0=Casual to Formal, 1=Formal to Casual, 2=Active to Passive, 3=Passive to Active etc..]\n",
        "sf = Styleformer(style = 0) \n",
        "\n",
        "source_sentences = [\n",
        "\"I am quitting my job\",\n",
        "\"Jimmy is on crack and can't trust him\",\n",
        "\"What do guys do to show that they like a gal?\",\n",
        "\"i loooooooooooooooooooooooove going to the movies.\",\n",
        "\"That movie was fucking awesome\",\n",
        "\"My mom is doing fine\",\n",
        "\"That was funny LOL\" , \n",
        "\"btw - ur avatar looks familiar\",\n",
        "\"who gives a crap?\",\n",
        "\"Dude, this car's dope!\",\n",
        "\"I kinda have a feeling that he has a crush on you.\",\n",
        "\"OMG! It's finger-lickin' good.\"\n",
        "]   \n",
        "\n",
        "for source_sentence in source_sentences:\n",
        "    target_sentence = sf.transfer(source_sentence)\n",
        "    print(\"-\" *100)\n",
        "    print(\"[Casual] \", source_sentence)\n",
        "    print(\"-\" *100)\n",
        "    if target_sentence is not None:\n",
        "        print(\"[Formal] \",target_sentence)\n",
        "        print()\n",
        "    else:\n",
        "        print(\"No good quality transfers available !\")"
      ],
      "metadata": {
        "colab": {
          "base_uri": "https://localhost:8080/"
        },
        "id": "N0Im9kU-Q7z1",
        "outputId": "11127a50-01e2-416b-daa8-dd581fa3b1cf"
      },
      "execution_count": 15,
      "outputs": [
        {
          "output_type": "stream",
          "name": "stdout",
          "text": [
            "Casual to Formal model loaded...\n"
          ]
        },
        {
          "output_type": "stream",
          "name": "stderr",
          "text": [
            "Asking to truncate to max_length but no maximum length is provided and the model has no predefined maximum length. Default to no truncation.\n"
          ]
        },
        {
          "output_type": "stream",
          "name": "stdout",
          "text": [
            "----------------------------------------------------------------------------------------------------\n",
            "[Casual]  I am quitting my job\n",
            "----------------------------------------------------------------------------------------------------\n",
            "No good quality transfers available !\n",
            "----------------------------------------------------------------------------------------------------\n",
            "[Casual]  Jimmy is on crack and can't trust him\n",
            "----------------------------------------------------------------------------------------------------\n",
            "[Formal]  Jimmy has gotten on crack. I'm not sure I can trust him.\n",
            "\n",
            "----------------------------------------------------------------------------------------------------\n",
            "[Casual]  What do guys do to show that they like a gal?\n",
            "----------------------------------------------------------------------------------------------------\n",
            "[Formal]  What can males do to show that they care for a female?\n",
            "\n",
            "----------------------------------------------------------------------------------------------------\n",
            "[Casual]  i loooooooooooooooooooooooove going to the movies.\n",
            "----------------------------------------------------------------------------------------------------\n",
            "No good quality transfers available !\n",
            "----------------------------------------------------------------------------------------------------\n",
            "[Casual]  That movie was fucking awesome\n",
            "----------------------------------------------------------------------------------------------------\n",
            "[Formal]  That movie was very entertaining\n",
            "\n",
            "----------------------------------------------------------------------------------------------------\n",
            "[Casual]  My mom is doing fine\n",
            "----------------------------------------------------------------------------------------------------\n",
            "[Formal]  My mom is doing well.\n",
            "\n",
            "----------------------------------------------------------------------------------------------------\n",
            "[Casual]  That was funny LOL\n",
            "----------------------------------------------------------------------------------------------------\n",
            "[Formal]  I enjoyed that.\n",
            "\n",
            "----------------------------------------------------------------------------------------------------\n",
            "[Casual]  btw - ur avatar looks familiar\n",
            "----------------------------------------------------------------------------------------------------\n",
            "No good quality transfers available !\n",
            "----------------------------------------------------------------------------------------------------\n",
            "[Casual]  who gives a crap?\n",
            "----------------------------------------------------------------------------------------------------\n",
            "No good quality transfers available !\n",
            "----------------------------------------------------------------------------------------------------\n",
            "[Casual]  Dude, this car's dope!\n",
            "----------------------------------------------------------------------------------------------------\n",
            "[Formal]  I really like this car.\n",
            "\n",
            "----------------------------------------------------------------------------------------------------\n",
            "[Casual]  I kinda have a feeling that he has a crush on you.\n",
            "----------------------------------------------------------------------------------------------------\n",
            "[Formal]  I have the feeling that he truly loves you.\n",
            "\n",
            "----------------------------------------------------------------------------------------------------\n",
            "[Casual]  OMG! It's finger-lickin' good.\n",
            "----------------------------------------------------------------------------------------------------\n",
            "[Formal]  I love it.\n",
            "\n"
          ]
        }
      ]
    },
    {
      "cell_type": "code",
      "source": [
        "from styleformer import Styleformer\n",
        "import warnings\n",
        "warnings.filterwarnings(\"ignore\")\n",
        "\n",
        "sf = Styleformer(style = 1) \n",
        "import torch\n",
        "def set_seed(seed):\n",
        "  torch.manual_seed(seed)\n",
        "  if torch.cuda.is_available():\n",
        "    torch.cuda.manual_seed_all(seed)\n",
        "\n",
        "set_seed(1212)\n",
        "\n",
        "source_sentences = [\n",
        "\"I would love to meet attractive men in town\",\n",
        "\"I am not paying this kind of money for that nonsense\",\n",
        "\"He is on cocaine and he cannot be trusted with this\",\n",
        "\"He is a very nice man and has a charming personality\",\n",
        "\"How are you?\",\n",
        "\"They will be attending the meeting tomorrow.\"\n",
        "]   \n",
        "\n",
        "for source_sentence in source_sentences:\n",
        "    target_sentence = sf.transfer(source_sentence, inference_on=-1, quality_filter=0.95, max_candidates=5)\n",
        "    print(\"[Formal] \", source_sentence)\n",
        "    if target_sentence is not None:\n",
        "        print(\"[Casual] \",target_sentence)\n",
        "    else:\n",
        "        print(\"No good quality transfers available !\")\n",
        "    print(\"-\" *100)        "
      ],
      "metadata": {
        "colab": {
          "base_uri": "https://localhost:8080/"
        },
        "id": "d4TYpoNpShqQ",
        "outputId": "b84d3757-66cd-47aa-ea55-2c973aed7205"
      },
      "execution_count": 16,
      "outputs": [
        {
          "output_type": "stream",
          "name": "stdout",
          "text": [
            "Formal to Casual model loaded...\n"
          ]
        },
        {
          "output_type": "stream",
          "name": "stderr",
          "text": [
            "Asking to truncate to max_length but no maximum length is provided and the model has no predefined maximum length. Default to no truncation.\n"
          ]
        },
        {
          "output_type": "stream",
          "name": "stdout",
          "text": [
            "[Formal]  I would love to meet attractive men in town\n",
            "[Casual]  If I were in town I'd love to meet some sexy guys\n",
            "----------------------------------------------------------------------------------------------------\n",
            "[Formal]  I am not paying this kind of money for that nonsense\n",
            "[Casual]  I don't pay these kinds of money for that nonsense\n",
            "----------------------------------------------------------------------------------------------------\n",
            "[Formal]  He is on cocaine and he cannot be trusted with this\n",
            "[Casual]  HE IS ON COKE AND CAN'T BE TRUE WITH THIS\n",
            "----------------------------------------------------------------------------------------------------\n",
            "[Formal]  He is a very nice man and has a charming personality\n",
            "[Casual]  hes a very nice guy and he is kinda sexy\n",
            "----------------------------------------------------------------------------------------------------\n",
            "[Formal]  How are you?\n",
            "[Casual]  and how are you doing?\n",
            "----------------------------------------------------------------------------------------------------\n",
            "[Formal]  They will be attending the meeting tomorrow.\n",
            "No good quality transfers available !\n",
            "----------------------------------------------------------------------------------------------------\n"
          ]
        }
      ]
    }
  ]
}